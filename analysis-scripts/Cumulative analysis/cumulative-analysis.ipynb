{
    "metadata": {
        "kernelspec": {
            "name": "SQL",
            "display_name": "SQL",
            "language": "sql"
        },
        "language_info": {
            "name": "sql",
            "version": ""
        }
    },
    "nbformat_minor": 2,
    "nbformat": 4,
    "cells": [
        {
            "cell_type": "markdown",
            "source": [
                "# **Cummulative Analysis.**\n",
                "\n",
                "## **Why?**\n",
                "\n",
                "- Calculates running totals or moving averages for key metrics.\n",
                "- Tracks performance over time cumulatively.\n",
                "- Useful for growth analysis or identifying long-term trends.\n",
                "\n",
                "## **Aggregates the Data Progressively Over Time.**\n",
                "\n",
                "### **(Helps to understand whether our business is growing or declining.)**\n",
                "\n",
                "Summation of \\[Cumulative Measure\\] by \\[Date Dimension\\]\n",
                "\n",
                "- Running Total Sales by Year\n",
                "- Moving Average of Sales by Month"
            ],
            "metadata": {
                "azdata_cell_guid": "fc5290e5-b876-4c71-8bca-9a6fd143e712"
            },
            "attachments": {}
        },
        {
            "cell_type": "markdown",
            "source": [
                "# **Calcualte the Total Sales per Month and the Running Total of Sales Over Time.**"
            ],
            "metadata": {
                "azdata_cell_guid": "9555d9ac-67ba-4e14-8391-432ecdac8ccc"
            },
            "attachments": {}
        },
        {
            "cell_type": "code",
            "source": [
                "SELECT\n",
                "    order_date, \n",
                "    total_sales, \n",
                "    SUM(total_sales) OVER (ORDER BY order_date) AS running_total_sales, \n",
                "    AVG(avg_price) OVER (ORDER BY order_date) AS moving_average_price\n",
                "FROM\n",
                "(\n",
                "    SELECT\n",
                "        DATETRUNC(year, order_date) AS order_date, \n",
                "        SUM(sales_amount) AS total_sales,\n",
                "        AVG(price) AS avg_price\n",
                "    FROM gold.fact_sales\n",
                "    WHERE order_date IS NOT NULL\n",
                "    GROUP BY DATETRUNC(year, order_date)\n",
                ") t"
            ],
            "metadata": {
                "azdata_cell_guid": "8c1d269c-e3f5-4e3f-8f78-6cc5fa78e7a6",
                "language": "sql"
            },
            "outputs": [
                {
                    "output_type": "display_data",
                    "data": {
                        "text/html": "(5 rows affected)"
                    },
                    "metadata": {}
                },
                {
                    "output_type": "display_data",
                    "data": {
                        "text/html": "Total execution time: 00:00:00.207"
                    },
                    "metadata": {}
                },
                {
                    "output_type": "execute_result",
                    "metadata": {},
                    "execution_count": 4,
                    "data": {
                        "application/vnd.dataresource+json": {
                            "schema": {
                                "fields": [
                                    {
                                        "name": "order_date"
                                    },
                                    {
                                        "name": "total_sales"
                                    },
                                    {
                                        "name": "running_total_sales"
                                    },
                                    {
                                        "name": "moving_average_price"
                                    }
                                ]
                            },
                            "data": [
                                {
                                    "order_date": "2010-01-01",
                                    "total_sales": "43419",
                                    "running_total_sales": "43419",
                                    "moving_average_price": "3101"
                                },
                                {
                                    "order_date": "2011-01-01",
                                    "total_sales": "7075088",
                                    "running_total_sales": "7118507",
                                    "moving_average_price": "3146"
                                },
                                {
                                    "order_date": "2012-01-01",
                                    "total_sales": "5842231",
                                    "running_total_sales": "12960738",
                                    "moving_average_price": "2670"
                                },
                                {
                                    "order_date": "2013-01-01",
                                    "total_sales": "16344878",
                                    "running_total_sales": "29305616",
                                    "moving_average_price": "2080"
                                },
                                {
                                    "order_date": "2014-01-01",
                                    "total_sales": "45642",
                                    "running_total_sales": "29351258",
                                    "moving_average_price": "1668"
                                }
                            ]
                        },
                        "text/html": [
                            "<table>",
                            "<tr><th>order_date</th><th>total_sales</th><th>running_total_sales</th><th>moving_average_price</th></tr>",
                            "<tr><td>2010-01-01</td><td>43419</td><td>43419</td><td>3101</td></tr>",
                            "<tr><td>2011-01-01</td><td>7075088</td><td>7118507</td><td>3146</td></tr>",
                            "<tr><td>2012-01-01</td><td>5842231</td><td>12960738</td><td>2670</td></tr>",
                            "<tr><td>2013-01-01</td><td>16344878</td><td>29305616</td><td>2080</td></tr>",
                            "<tr><td>2014-01-01</td><td>45642</td><td>29351258</td><td>1668</td></tr>",
                            "</table>"
                        ]
                    }
                }
            ],
            "execution_count": 4
        }
    ]
}