{
    "metadata": {
        "kernelspec": {
            "name": "SQL",
            "display_name": "SQL",
            "language": "sql"
        },
        "language_info": {
            "name": "sql",
            "version": ""
        }
    },
    "nbformat_minor": 2,
    "nbformat": 4,
    "cells": [
        {
            "cell_type": "markdown",
            "source": [
                "# **Part-to-Whole Analysis (Proportional Analysis)**\n",
                "\n",
                "## **Why?**\n",
                "\n",
                "- Compares performance or metrics across dimensions or time periods.\n",
                "- Eveluate differences between categories.\n",
                "- Useful for A/B testing or regional comparison.\n",
                "\n",
                "## **Analyze How an Individual Part is Performing Compared to the Overall.**\n",
                "\n",
                "### **(Allowing us to understand which categroy has the greatest impact on the business.)**\n",
                "\n",
                "(\\[Measure\\] / Total\\[Measure\\]) \\* 100 By \\[Dimension\\]\n",
                "\n",
                "- (Sales / Total Sales) \\* 100 By Category\n",
                "- (Quantity/Total Quantity) \\* 100 By Country"
            ],
            "metadata": {
                "azdata_cell_guid": "691b94d9-8af6-4afd-91df-6d464210b4f6"
            },
            "attachments": {}
        },
        {
            "cell_type": "markdown",
            "source": [
                "## **Which Categories Contribute the Most to Overall Sales?**"
            ],
            "metadata": {
                "azdata_cell_guid": "3c5b5aba-2c5a-4a4c-b89e-a715b3cda46c"
            },
            "attachments": {}
        },
        {
            "cell_type": "code",
            "source": [
                "WITH category_sales AS (\n",
                "    SELECT\n",
                "        p.category, \n",
                "        SUM(f.sales_amount) AS total_sales\n",
                "    FROM gold.fact_sales f\n",
                "    LEFT JOIN gold.dim_products p\n",
                "        ON p.product_key = f.product_key\n",
                "    GROUP BY p.category\n",
                ")\n",
                "SELECT\n",
                "    category, \n",
                "    total_sales, \n",
                "    SUM(total_sales) OVER () overall_sales,\n",
                "    ROUND((CAST(total_sales AS FLOAT) / SUM(total_sales) OVER ()) * 100, 2) AS percentage_of_total\n",
                "FROM category_sales\n",
                "ORDER BY total_sales DESC;"
            ],
            "metadata": {
                "azdata_cell_guid": "30e530f7-ba70-4675-874b-0b79be221aab",
                "language": "sql"
            },
            "outputs": [
                {
                    "output_type": "display_data",
                    "data": {
                        "text/html": "(3 rows affected)"
                    },
                    "metadata": {}
                },
                {
                    "output_type": "display_data",
                    "data": {
                        "text/html": "Total execution time: 00:00:00.408"
                    },
                    "metadata": {}
                },
                {
                    "output_type": "execute_result",
                    "metadata": {},
                    "execution_count": 1,
                    "data": {
                        "application/vnd.dataresource+json": {
                            "schema": {
                                "fields": [
                                    {
                                        "name": "category"
                                    },
                                    {
                                        "name": "total_sales"
                                    },
                                    {
                                        "name": "overall_sales"
                                    },
                                    {
                                        "name": "percentage_of_total"
                                    }
                                ]
                            },
                            "data": [
                                {
                                    "category": "Bikes",
                                    "total_sales": "28316272",
                                    "overall_sales": "29356250",
                                    "percentage_of_total": "96.46"
                                },
                                {
                                    "category": "Accessories",
                                    "total_sales": "700262",
                                    "overall_sales": "29356250",
                                    "percentage_of_total": "2.39"
                                },
                                {
                                    "category": "Clothing",
                                    "total_sales": "339716",
                                    "overall_sales": "29356250",
                                    "percentage_of_total": "1.16"
                                }
                            ]
                        },
                        "text/html": [
                            "<table>",
                            "<tr><th>category</th><th>total_sales</th><th>overall_sales</th><th>percentage_of_total</th></tr>",
                            "<tr><td>Bikes</td><td>28316272</td><td>29356250</td><td>96.46</td></tr>",
                            "<tr><td>Accessories</td><td>700262</td><td>29356250</td><td>2.39</td></tr>",
                            "<tr><td>Clothing</td><td>339716</td><td>29356250</td><td>1.16</td></tr>",
                            "</table>"
                        ]
                    }
                }
            ],
            "execution_count": 1
        }
    ]
}