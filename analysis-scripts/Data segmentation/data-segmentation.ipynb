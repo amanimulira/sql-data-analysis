{
    "metadata": {
        "kernelspec": {
            "name": "SQL",
            "display_name": "SQL",
            "language": "sql"
        },
        "language_info": {
            "name": "sql",
            "version": ""
        }
    },
    "nbformat_minor": 2,
    "nbformat": 4,
    "cells": [
        {
            "cell_type": "markdown",
            "source": [
                "# **Data Segmentation Analysis**\n",
                "\n",
                "## **Why?**\n",
                "\n",
                "- Groups data into meaningful categories for targeted insights.\n",
                "- For customer segmentation, product categorization, or regional analysis.\n",
                "\n",
                "## **Group the Data Based on a Specfic Range.**\n",
                "\n",
                "### (Helps understand the correlation between two measures.)\n",
                "\n",
                "- \\[measure\\] by \\[measure\\]\n",
                "\n",
                "Examples:\n",
                "\n",
                "- Total Products by Sales Range\n",
                "- Total Customers by Age"
            ],
            "metadata": {
                "azdata_cell_guid": "b3b7c1a0-83ef-4d79-b87f-b0e6de5056e3"
            },
            "attachments": {}
        },
        {
            "cell_type": "markdown",
            "source": [
                "## **Segment Products into Cost Ranges and Count How Many Products Fall into Each Segment.**"
            ],
            "metadata": {
                "azdata_cell_guid": "40a25b15-bbfe-4066-b158-74169e6adda4"
            },
            "attachments": {}
        },
        {
            "cell_type": "code",
            "source": [
                "WITH product_segments AS (\n",
                "    SELECT\n",
                "        product_key, \n",
                "        product_name,\n",
                "        cost, \n",
                "        CASE\n",
                "            WHEN cost < 100 THEN 'Below 100'\n",
                "            WHEN cost BETWEEN 100 AND 500 THEN '100-500'\n",
                "            WHEN cost BETWEEN 500 AND 1000 THEN '500-1000'\n",
                "            ELSE 'Above 1000'\n",
                "        END AS cost_range\n",
                "    FROM gold.dim_products\n",
                ")\n",
                "SELECT\n",
                "    cost_range,\n",
                "    COUNT(product_key) AS total_products\n",
                "FROM product_segments\n",
                "GROUP BY cost_range\n",
                "ORDER BY total_products DESC;"
            ],
            "metadata": {
                "azdata_cell_guid": "2e242f35-f241-430f-8b26-543f7ce13f66",
                "language": "sql"
            },
            "outputs": [
                {
                    "output_type": "display_data",
                    "data": {
                        "text/html": "(4 rows affected)"
                    },
                    "metadata": {}
                },
                {
                    "output_type": "display_data",
                    "data": {
                        "text/html": "Total execution time: 00:00:00.098"
                    },
                    "metadata": {}
                },
                {
                    "output_type": "execute_result",
                    "metadata": {},
                    "execution_count": 1,
                    "data": {
                        "application/vnd.dataresource+json": {
                            "schema": {
                                "fields": [
                                    {
                                        "name": "cost_range"
                                    },
                                    {
                                        "name": "total_products"
                                    }
                                ]
                            },
                            "data": [
                                {
                                    "cost_range": "Below 100",
                                    "total_products": "110"
                                },
                                {
                                    "cost_range": "100-500",
                                    "total_products": "101"
                                },
                                {
                                    "cost_range": "500-1000",
                                    "total_products": "45"
                                },
                                {
                                    "cost_range": "Above 1000",
                                    "total_products": "39"
                                }
                            ]
                        },
                        "text/html": [
                            "<table>",
                            "<tr><th>cost_range</th><th>total_products</th></tr>",
                            "<tr><td>Below 100</td><td>110</td></tr>",
                            "<tr><td>100-500</td><td>101</td></tr>",
                            "<tr><td>500-1000</td><td>45</td></tr>",
                            "<tr><td>Above 1000</td><td>39</td></tr>",
                            "</table>"
                        ]
                    }
                }
            ],
            "execution_count": 1
        },
        {
            "cell_type": "markdown",
            "source": [
                "### **Group customer into three segments based on thier spending behavior:**\n",
                "\n",
                "- VIP: Customers with at least 12 months of history and spending more than 5,000.\n",
                "- Regular: Customers with at least 12 months of history by spending 5,000 or less.\n",
                "- New: Cusotmers with a lifespan less than 12 months.\n",
                "\n",
                "### **And find the total number of customers by each group.**"
            ],
            "metadata": {
                "language": "sql",
                "azdata_cell_guid": "3f4c649f-af20-4855-9f16-4a463a0b259e"
            },
            "attachments": {}
        },
        {
            "cell_type": "code",
            "source": [
                "WITH customer_spending AS (\n",
                "    SELECT\n",
                "        c.customer_key,\n",
                "        SUM(f.sales_amount) AS total_spending,\n",
                "        MIN(order_date) AS first_order, \n",
                "        MAX(order_date) AS last_order,\n",
                "        DATEDIFF(month, MIN(order_date), MAX(order_date)) AS lifespan\n",
                "    FROM gold.fact_sales f\n",
                "    LEFT JOIN gold.dim_customers c \n",
                "        ON f.customer_key = c.customer_key\n",
                "    GROUP BY c.customer_key\n",
                ")\n",
                "SELECT\n",
                "    customer_segment,\n",
                "    COUNT(customer_key) AS total_customers\n",
                "FROM (\n",
                "    SELECT \n",
                "        customer_key, \n",
                "        CASE\n",
                "            WHEN lifespan >= 12 AND total_spending > 5000 THEN 'VIP'\n",
                "            WHEN lifespan >= 12 AND total_spending <= 5000 THEN 'Regular'\n",
                "            ELSE 'New'\n",
                "        END AS customer_segment\n",
                "    FROM customer_spending\n",
                ") AS segmented_customers\n",
                "GROUP BY customer_segment\n",
                "ORDER BY total_customers DESC;"
            ],
            "metadata": {
                "language": "sql",
                "azdata_cell_guid": "a8e50636-3b3b-4987-b340-d481d652a9d2"
            },
            "outputs": [
                {
                    "output_type": "display_data",
                    "data": {
                        "text/html": "Warning: Null value is eliminated by an aggregate or other SET operation."
                    },
                    "metadata": {}
                },
                {
                    "output_type": "display_data",
                    "data": {
                        "text/html": "(3 rows affected)"
                    },
                    "metadata": {}
                },
                {
                    "output_type": "display_data",
                    "data": {
                        "text/html": "Total execution time: 00:00:00.709"
                    },
                    "metadata": {}
                },
                {
                    "output_type": "execute_result",
                    "metadata": {},
                    "execution_count": 2,
                    "data": {
                        "application/vnd.dataresource+json": {
                            "schema": {
                                "fields": [
                                    {
                                        "name": "customer_segment"
                                    },
                                    {
                                        "name": "total_customers"
                                    }
                                ]
                            },
                            "data": [
                                {
                                    "customer_segment": "New",
                                    "total_customers": "14631"
                                },
                                {
                                    "customer_segment": "Regular",
                                    "total_customers": "2198"
                                },
                                {
                                    "customer_segment": "VIP",
                                    "total_customers": "1655"
                                }
                            ]
                        },
                        "text/html": [
                            "<table>",
                            "<tr><th>customer_segment</th><th>total_customers</th></tr>",
                            "<tr><td>New</td><td>14631</td></tr>",
                            "<tr><td>Regular</td><td>2198</td></tr>",
                            "<tr><td>VIP</td><td>1655</td></tr>",
                            "</table>"
                        ]
                    }
                }
            ],
            "execution_count": 2
        }
    ]
}