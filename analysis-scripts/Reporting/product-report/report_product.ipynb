{
    "metadata": {
        "kernelspec": {
            "name": "SQL",
            "display_name": "SQL",
            "language": "sql"
        },
        "language_info": {
            "name": "sql",
            "version": ""
        }
    },
    "nbformat_minor": 2,
    "nbformat": 4,
    "cells": [
        {
            "cell_type": "markdown",
            "source": [
                "# **Product Report**\n",
                "\n",
                "## **Why?**\n",
                "\n",
                "### **This report consolidates key product metrics and behaviors.**\n",
                "\n",
                "### \n",
                "\n",
                "1. Gathers essential fields such as product name, category, subcategroy, and cost.\n",
                "2. Segments products revenue to identify High-Performers, Mid-Range, or Low-Performers.\n",
                "3. Aggregates product-level metrics:\n",
                "\n",
                "    - total orders\n",
                "    - total sales\n",
                "    - total quantity sold\n",
                "    - total customers (unique)\n",
                "    - lifespan (in months)\n",
                "\n",
                "### \n",
                "\n",
                "4. Calculates valuable KPIs:\n",
                "\n",
                "    - recency (months since last sale)\n",
                "    - average order revenue (AOR)\n",
                "    - average monthly revenue"
            ],
            "metadata": {
                "azdata_cell_guid": "d46e4630-583b-43bc-86f8-c52cbef42062"
            },
            "attachments": {}
        },
        {
            "cell_type": "markdown",
            "source": [
                "Create Report: gold.report_products"
            ],
            "metadata": {
                "azdata_cell_guid": "3eb64b1f-e07f-431f-bb90-0de9ef04df27"
            }
        },
        {
            "cell_type": "code",
            "source": [
                "IF OBJECT_ID('gold.report_products', 'V') IS NOT NULL\n",
                "    DROP VIEW gold.report_products;"
            ],
            "metadata": {
                "azdata_cell_guid": "1e7c0d02-0c38-46dd-979d-81eda095e670",
                "language": "sql",
                "tags": []
            },
            "outputs": [
                {
                    "output_type": "display_data",
                    "data": {
                        "text/html": "Commands completed successfully."
                    },
                    "metadata": {}
                },
                {
                    "output_type": "display_data",
                    "data": {
                        "text/html": "Total execution time: 00:00:00.011"
                    },
                    "metadata": {}
                }
            ],
            "execution_count": 2
        },
        {
            "cell_type": "code",
            "source": [
                "CREATE VIEW gold.report_products AS\n",
                "\n",
                "WITH base_query AS (\n",
                "    -- Base Query: Retrieves core columns from fact_sales and dim_products\n",
                "    SELECT\n",
                "        f.order_number, \n",
                "        f.order_date,\n",
                "        f.customer_key,\n",
                "        f.sales_amount,\n",
                "        f.quantity, \n",
                "        p.product_key,\n",
                "        p.product_name,\n",
                "        p.category,\n",
                "        p.subcategory,\n",
                "        p.cost\n",
                "    FROM gold.fact_sales f\n",
                "    LEFT JOIN gold.dim_products p \n",
                "        ON f.product_key = p.product_key\n",
                "    WHERE order_date IS NOT NULL -- only consider vlaid sales dates\n",
                "),\n",
                "\n",
                "product_aggregations AS (\n",
                "-- Product Aggregations: Summarizes key metrics at the product level\n",
                "SELECT\n",
                "    product_key,\n",
                "    product_name,\n",
                "    category,\n",
                "    subcategory, \n",
                "    cost, \n",
                "    DATEDIFF(MONTH, MIN(order_date), MAX(order_date)) AS lifespan, \n",
                "    MAX(order_date) AS last_sale_date,\n",
                "    COUNT(DISTINCT order_number) AS total_orders,\n",
                "    COUNT(DISTINCT customer_key) AS total_customers, \n",
                "    SUM(sales_amount) AS total_sales, \n",
                "    SUM(quantity) AS total_quantity,\n",
                "    ROUND(AVG(CAST(sales_amount AS FLOAT) / NULLIF(quantity, 0)), 1) AS avg_selling_price\n",
                "FROM base_query\n",
                "\n",
                "GROUP BY\n",
                "    product_key, \n",
                "    product_name, \n",
                "    category,\n",
                "    subcategory,\n",
                "    cost\n",
                ")\n",
                "\n",
                "-- Final Query: Combines all product results into one output\n",
                "\n",
                "SELECT\n",
                "    product_key,\n",
                "    product_name, \n",
                "    category,\n",
                "    subcategory,\n",
                "    cost, \n",
                "    last_sale_date,\n",
                "    DATEDIFF(MONTH, last_sale_date, GETDATE()) AS recency_in_months,\n",
                "    CASE\n",
                "        WHEN total_sales > 50000 THEN 'High-Performer'\n",
                "        WHEN total_sales >= 10000 THEN 'Mid-Range'\n",
                "        ELSE 'Low-Performer'\n",
                "    END AS product_segment,\n",
                "    lifespan,\n",
                "    total_orders,\n",
                "    total_sales,\n",
                "    total_quantity,\n",
                "    total_customers,\n",
                "    avg_selling_price,\n",
                "    -- Average Order Revenue (AOR)\n",
                "    CASE\n",
                "        WHEN total_orders = 0 THEN 0\n",
                "        ELSE total_sales / total_orders\n",
                "    END AS avg_order_revenue,\n",
                "\n",
                "    -- Average Monthly Revenue\n",
                "    CASE\n",
                "        WHEN lifespan = 0 THEN total_sales\n",
                "        ELSE total_sales / lifespan\n",
                "    END AS avg_monthly_revenue\n",
                "\n",
                "FROM product_aggregations"
            ],
            "metadata": {
                "azdata_cell_guid": "4e8b5bcb-4604-4867-8649-feb510aa4e4f",
                "language": "sql",
                "tags": []
            },
            "outputs": [
                {
                    "output_type": "display_data",
                    "data": {
                        "text/html": "Commands completed successfully."
                    },
                    "metadata": {}
                },
                {
                    "output_type": "display_data",
                    "data": {
                        "text/html": "Total execution time: 00:00:00.027"
                    },
                    "metadata": {}
                }
            ],
            "execution_count": 3
        },
        {
            "cell_type": "code",
            "source": [
                "SELECT TOP (20) [customer_key]\n",
                "      ,[customer_number]\n",
                "      ,[customer_name]\n",
                "      ,[age]\n",
                "      ,[age_group]\n",
                "      ,[customer_segment]\n",
                "      ,[last_order_date]\n",
                "      ,[recency]\n",
                "      ,[total_orders]\n",
                "      ,[total_sales]\n",
                "      ,[total_quantity]\n",
                "      ,[total_products]\n",
                "      ,[lifespan]\n",
                "      ,[avg_order_value]\n",
                "      ,[avg_monthly_spend]\n",
                "  FROM [DataWarehouse].[Gold].[report_customers]"
            ],
            "metadata": {
                "azdata_cell_guid": "23a2d2bb-a5b8-4988-87d7-cb0ca512ce17",
                "language": "sql"
            },
            "outputs": [
                {
                    "output_type": "display_data",
                    "data": {
                        "text/html": "(20 rows affected)"
                    },
                    "metadata": {}
                },
                {
                    "output_type": "display_data",
                    "data": {
                        "text/html": "Total execution time: 00:00:01.006"
                    },
                    "metadata": {}
                },
                {
                    "output_type": "execute_result",
                    "metadata": {},
                    "execution_count": 4,
                    "data": {
                        "application/vnd.dataresource+json": {
                            "schema": {
                                "fields": [
                                    {
                                        "name": "customer_key"
                                    },
                                    {
                                        "name": "customer_number"
                                    },
                                    {
                                        "name": "customer_name"
                                    },
                                    {
                                        "name": "age"
                                    },
                                    {
                                        "name": "age_group"
                                    },
                                    {
                                        "name": "customer_segment"
                                    },
                                    {
                                        "name": "last_order_date"
                                    },
                                    {
                                        "name": "recency"
                                    },
                                    {
                                        "name": "total_orders"
                                    },
                                    {
                                        "name": "total_sales"
                                    },
                                    {
                                        "name": "total_quantity"
                                    },
                                    {
                                        "name": "total_products"
                                    },
                                    {
                                        "name": "lifespan"
                                    },
                                    {
                                        "name": "avg_order_value"
                                    },
                                    {
                                        "name": "avg_monthly_spend"
                                    }
                                ]
                            },
                            "data": [
                                {
                                    "customer_key": "1",
                                    "customer_number": "AW00011000",
                                    "customer_name": "Jon Yang",
                                    "age": "54",
                                    "age_group": "50 and above",
                                    "customer_segment": "VIP",
                                    "last_order_date": "2013-05-03",
                                    "recency": "148",
                                    "total_orders": "3",
                                    "total_sales": "8249",
                                    "total_quantity": "8",
                                    "total_products": "8",
                                    "lifespan": "28",
                                    "avg_order_value": "2749",
                                    "avg_monthly_spend": "294"
                                },
                                {
                                    "customer_key": "2",
                                    "customer_number": "AW00011001",
                                    "customer_name": "Eugene Huang",
                                    "age": "49",
                                    "age_group": "40-49",
                                    "customer_segment": "VIP",
                                    "last_order_date": "2013-12-10",
                                    "recency": "141",
                                    "total_orders": "3",
                                    "total_sales": "6384",
                                    "total_quantity": "11",
                                    "total_products": "10",
                                    "lifespan": "35",
                                    "avg_order_value": "2128",
                                    "avg_monthly_spend": "182"
                                },
                                {
                                    "customer_key": "3",
                                    "customer_number": "AW00011002",
                                    "customer_name": "Ruben Torres",
                                    "age": "54",
                                    "age_group": "50 and above",
                                    "customer_segment": "VIP",
                                    "last_order_date": "2013-02-23",
                                    "recency": "151",
                                    "total_orders": "3",
                                    "total_sales": "8114",
                                    "total_quantity": "4",
                                    "total_products": "4",
                                    "lifespan": "25",
                                    "avg_order_value": "2704",
                                    "avg_monthly_spend": "324"
                                },
                                {
                                    "customer_key": "4",
                                    "customer_number": "AW00011003",
                                    "customer_name": "Christy Zhu",
                                    "age": "52",
                                    "age_group": "50 and above",
                                    "customer_segment": "VIP",
                                    "last_order_date": "2013-05-10",
                                    "recency": "148",
                                    "total_orders": "3",
                                    "total_sales": "8139",
                                    "total_quantity": "9",
                                    "total_products": "9",
                                    "lifespan": "29",
                                    "avg_order_value": "2713",
                                    "avg_monthly_spend": "280"
                                },
                                {
                                    "customer_key": "5",
                                    "customer_number": "AW00011004",
                                    "customer_name": "Elizabeth Johnson",
                                    "age": "46",
                                    "age_group": "40-49",
                                    "customer_segment": "VIP",
                                    "last_order_date": "2013-05-01",
                                    "recency": "148",
                                    "total_orders": "3",
                                    "total_sales": "8196",
                                    "total_quantity": "6",
                                    "total_products": "6",
                                    "lifespan": "28",
                                    "avg_order_value": "2732",
                                    "avg_monthly_spend": "292"
                                },
                                {
                                    "customer_key": "6",
                                    "customer_number": "AW00011005",
                                    "customer_name": "Julio Ruiz",
                                    "age": "49",
                                    "age_group": "40-49",
                                    "customer_segment": "VIP",
                                    "last_order_date": "2013-05-02",
                                    "recency": "148",
                                    "total_orders": "3",
                                    "total_sales": "8121",
                                    "total_quantity": "6",
                                    "total_products": "6",
                                    "lifespan": "29",
                                    "avg_order_value": "2707",
                                    "avg_monthly_spend": "280"
                                },
                                {
                                    "customer_key": "7",
                                    "customer_number": "AW00011006",
                                    "customer_name": "Janet Alvarez",
                                    "age": "49",
                                    "age_group": "40-49",
                                    "customer_segment": "VIP",
                                    "last_order_date": "2013-05-14",
                                    "recency": "148",
                                    "total_orders": "3",
                                    "total_sales": "8119",
                                    "total_quantity": "5",
                                    "total_products": "5",
                                    "lifespan": "28",
                                    "avg_order_value": "2706",
                                    "avg_monthly_spend": "289"
                                },
                                {
                                    "customer_key": "8",
                                    "customer_number": "AW00011007",
                                    "customer_name": "Marco Mehta",
                                    "age": "56",
                                    "age_group": "50 and above",
                                    "customer_segment": "VIP",
                                    "last_order_date": "2013-03-19",
                                    "recency": "150",
                                    "total_orders": "3",
                                    "total_sales": "8211",
                                    "total_quantity": "8",
                                    "total_products": "8",
                                    "lifespan": "26",
                                    "avg_order_value": "2737",
                                    "avg_monthly_spend": "315"
                                },
                                {
                                    "customer_key": "9",
                                    "customer_number": "AW00011008",
                                    "customer_name": "Rob Verhoff",
                                    "age": "50",
                                    "age_group": "50 and above",
                                    "customer_segment": "VIP",
                                    "last_order_date": "2013-03-02",
                                    "recency": "150",
                                    "total_orders": "3",
                                    "total_sales": "8106",
                                    "total_quantity": "7",
                                    "total_products": "7",
                                    "lifespan": "26",
                                    "avg_order_value": "2702",
                                    "avg_monthly_spend": "311"
                                },
                                {
                                    "customer_key": "10",
                                    "customer_number": "AW00011009",
                                    "customer_name": "Shannon Carlson",
                                    "age": "56",
                                    "age_group": "50 and above",
                                    "customer_segment": "VIP",
                                    "last_order_date": "2013-05-09",
                                    "recency": "148",
                                    "total_orders": "3",
                                    "total_sales": "8091",
                                    "total_quantity": "5",
                                    "total_products": "5",
                                    "lifespan": "28",
                                    "avg_order_value": "2697",
                                    "avg_monthly_spend": "288"
                                },
                                {
                                    "customer_key": "11",
                                    "customer_number": "AW00011010",
                                    "customer_name": "Jacquelyn Suarez",
                                    "age": "56",
                                    "age_group": "50 and above",
                                    "customer_segment": "VIP",
                                    "last_order_date": "2013-05-23",
                                    "recency": "148",
                                    "total_orders": "3",
                                    "total_sales": "8088",
                                    "total_quantity": "4",
                                    "total_products": "4",
                                    "lifespan": "28",
                                    "avg_order_value": "2696",
                                    "avg_monthly_spend": "288"
                                },
                                {
                                    "customer_key": "12",
                                    "customer_number": "AW00011011",
                                    "customer_name": "Curtis Lu",
                                    "age": "56",
                                    "age_group": "50 and above",
                                    "customer_segment": "VIP",
                                    "last_order_date": "2013-03-19",
                                    "recency": "150",
                                    "total_orders": "3",
                                    "total_sales": "8133",
                                    "total_quantity": "4",
                                    "total_products": "4",
                                    "lifespan": "27",
                                    "avg_order_value": "2711",
                                    "avg_monthly_spend": "301"
                                },
                                {
                                    "customer_key": "13",
                                    "customer_number": "AW00011012",
                                    "customer_name": "Lauren Walker",
                                    "age": "46",
                                    "age_group": "40-49",
                                    "customer_segment": "New",
                                    "last_order_date": "2013-10-15",
                                    "recency": "143",
                                    "total_orders": "2",
                                    "total_sales": "81",
                                    "total_quantity": "5",
                                    "total_products": "5",
                                    "lifespan": "7",
                                    "avg_order_value": "40",
                                    "avg_monthly_spend": "11"
                                },
                                {
                                    "customer_key": "14",
                                    "customer_number": "AW00011013",
                                    "customer_name": "Ian Jenkins",
                                    "age": "46",
                                    "age_group": "40-49",
                                    "customer_segment": "New",
                                    "last_order_date": "2014-01-21",
                                    "recency": "140",
                                    "total_orders": "2",
                                    "total_sales": "114",
                                    "total_quantity": "5",
                                    "total_products": "5",
                                    "lifespan": "9",
                                    "avg_order_value": "57",
                                    "avg_monthly_spend": "12"
                                },
                                {
                                    "customer_key": "15",
                                    "customer_number": "AW00011014",
                                    "customer_name": "Sydney Bennett",
                                    "age": "52",
                                    "age_group": "50 and above",
                                    "customer_segment": "New",
                                    "last_order_date": "2013-04-30",
                                    "recency": "149",
                                    "total_orders": "2",
                                    "total_sales": "138",
                                    "total_quantity": "6",
                                    "total_products": "5",
                                    "lifespan": "1",
                                    "avg_order_value": "69",
                                    "avg_monthly_spend": "138"
                                },
                                {
                                    "customer_key": "16",
                                    "customer_number": "AW00011015",
                                    "customer_name": "Chloe Young",
                                    "age": "41",
                                    "age_group": "40-49",
                                    "customer_segment": "New",
                                    "last_order_date": "2013-01-18",
                                    "recency": "152",
                                    "total_orders": "1",
                                    "total_sales": "2501",
                                    "total_quantity": "3",
                                    "total_products": "3",
                                    "lifespan": "0",
                                    "avg_order_value": "2501",
                                    "avg_monthly_spend": "2501"
                                },
                                {
                                    "customer_key": "17",
                                    "customer_number": "AW00011016",
                                    "customer_name": "Wyatt Hill",
                                    "age": "41",
                                    "age_group": "40-49",
                                    "customer_segment": "New",
                                    "last_order_date": "2013-02-09",
                                    "recency": "151",
                                    "total_orders": "1",
                                    "total_sales": "2332",
                                    "total_quantity": "3",
                                    "total_products": "3",
                                    "lifespan": "0",
                                    "avg_order_value": "2332",
                                    "avg_monthly_spend": "2332"
                                },
                                {
                                    "customer_key": "18",
                                    "customer_number": "AW00011017",
                                    "customer_name": "Shannon Wang",
                                    "age": "76",
                                    "age_group": "50 and above",
                                    "customer_segment": "VIP",
                                    "last_order_date": "2013-10-14",
                                    "recency": "143",
                                    "total_orders": "3",
                                    "total_sales": "6434",
                                    "total_quantity": "4",
                                    "total_products": "4",
                                    "lifespan": "33",
                                    "avg_order_value": "2144",
                                    "avg_monthly_spend": "194"
                                },
                                {
                                    "customer_key": "19",
                                    "customer_number": "AW00011018",
                                    "customer_name": "Clarence Rai",
                                    "age": "70",
                                    "age_group": "50 and above",
                                    "customer_segment": "VIP",
                                    "last_order_date": "2013-10-24",
                                    "recency": "143",
                                    "total_orders": "3",
                                    "total_sales": "6533",
                                    "total_quantity": "7",
                                    "total_products": "7",
                                    "lifespan": "33",
                                    "avg_order_value": "2177",
                                    "avg_monthly_spend": "197"
                                },
                                {
                                    "customer_key": "20",
                                    "customer_number": "AW00011019",
                                    "customer_name": "Luke Lal",
                                    "age": "42",
                                    "age_group": "40-49",
                                    "customer_segment": "New",
                                    "last_order_date": "2014-01-12",
                                    "recency": "140",
                                    "total_orders": "17",
                                    "total_sales": "880",
                                    "total_quantity": "33",
                                    "total_products": "20",
                                    "lifespan": "11",
                                    "avg_order_value": "51",
                                    "avg_monthly_spend": "80"
                                }
                            ]
                        },
                        "text/html": [
                            "<table>",
                            "<tr><th>customer_key</th><th>customer_number</th><th>customer_name</th><th>age</th><th>age_group</th><th>customer_segment</th><th>last_order_date</th><th>recency</th><th>total_orders</th><th>total_sales</th><th>total_quantity</th><th>total_products</th><th>lifespan</th><th>avg_order_value</th><th>avg_monthly_spend</th></tr>",
                            "<tr><td>1</td><td>AW00011000</td><td>Jon Yang</td><td>54</td><td>50 and above</td><td>VIP</td><td>2013-05-03</td><td>148</td><td>3</td><td>8249</td><td>8</td><td>8</td><td>28</td><td>2749</td><td>294</td></tr>",
                            "<tr><td>2</td><td>AW00011001</td><td>Eugene Huang</td><td>49</td><td>40-49</td><td>VIP</td><td>2013-12-10</td><td>141</td><td>3</td><td>6384</td><td>11</td><td>10</td><td>35</td><td>2128</td><td>182</td></tr>",
                            "<tr><td>3</td><td>AW00011002</td><td>Ruben Torres</td><td>54</td><td>50 and above</td><td>VIP</td><td>2013-02-23</td><td>151</td><td>3</td><td>8114</td><td>4</td><td>4</td><td>25</td><td>2704</td><td>324</td></tr>",
                            "<tr><td>4</td><td>AW00011003</td><td>Christy Zhu</td><td>52</td><td>50 and above</td><td>VIP</td><td>2013-05-10</td><td>148</td><td>3</td><td>8139</td><td>9</td><td>9</td><td>29</td><td>2713</td><td>280</td></tr>",
                            "<tr><td>5</td><td>AW00011004</td><td>Elizabeth Johnson</td><td>46</td><td>40-49</td><td>VIP</td><td>2013-05-01</td><td>148</td><td>3</td><td>8196</td><td>6</td><td>6</td><td>28</td><td>2732</td><td>292</td></tr>",
                            "<tr><td>6</td><td>AW00011005</td><td>Julio Ruiz</td><td>49</td><td>40-49</td><td>VIP</td><td>2013-05-02</td><td>148</td><td>3</td><td>8121</td><td>6</td><td>6</td><td>29</td><td>2707</td><td>280</td></tr>",
                            "<tr><td>7</td><td>AW00011006</td><td>Janet Alvarez</td><td>49</td><td>40-49</td><td>VIP</td><td>2013-05-14</td><td>148</td><td>3</td><td>8119</td><td>5</td><td>5</td><td>28</td><td>2706</td><td>289</td></tr>",
                            "<tr><td>8</td><td>AW00011007</td><td>Marco Mehta</td><td>56</td><td>50 and above</td><td>VIP</td><td>2013-03-19</td><td>150</td><td>3</td><td>8211</td><td>8</td><td>8</td><td>26</td><td>2737</td><td>315</td></tr>",
                            "<tr><td>9</td><td>AW00011008</td><td>Rob Verhoff</td><td>50</td><td>50 and above</td><td>VIP</td><td>2013-03-02</td><td>150</td><td>3</td><td>8106</td><td>7</td><td>7</td><td>26</td><td>2702</td><td>311</td></tr>",
                            "<tr><td>10</td><td>AW00011009</td><td>Shannon Carlson</td><td>56</td><td>50 and above</td><td>VIP</td><td>2013-05-09</td><td>148</td><td>3</td><td>8091</td><td>5</td><td>5</td><td>28</td><td>2697</td><td>288</td></tr>",
                            "<tr><td>11</td><td>AW00011010</td><td>Jacquelyn Suarez</td><td>56</td><td>50 and above</td><td>VIP</td><td>2013-05-23</td><td>148</td><td>3</td><td>8088</td><td>4</td><td>4</td><td>28</td><td>2696</td><td>288</td></tr>",
                            "<tr><td>12</td><td>AW00011011</td><td>Curtis Lu</td><td>56</td><td>50 and above</td><td>VIP</td><td>2013-03-19</td><td>150</td><td>3</td><td>8133</td><td>4</td><td>4</td><td>27</td><td>2711</td><td>301</td></tr>",
                            "<tr><td>13</td><td>AW00011012</td><td>Lauren Walker</td><td>46</td><td>40-49</td><td>New</td><td>2013-10-15</td><td>143</td><td>2</td><td>81</td><td>5</td><td>5</td><td>7</td><td>40</td><td>11</td></tr>",
                            "<tr><td>14</td><td>AW00011013</td><td>Ian Jenkins</td><td>46</td><td>40-49</td><td>New</td><td>2014-01-21</td><td>140</td><td>2</td><td>114</td><td>5</td><td>5</td><td>9</td><td>57</td><td>12</td></tr>",
                            "<tr><td>15</td><td>AW00011014</td><td>Sydney Bennett</td><td>52</td><td>50 and above</td><td>New</td><td>2013-04-30</td><td>149</td><td>2</td><td>138</td><td>6</td><td>5</td><td>1</td><td>69</td><td>138</td></tr>",
                            "<tr><td>16</td><td>AW00011015</td><td>Chloe Young</td><td>41</td><td>40-49</td><td>New</td><td>2013-01-18</td><td>152</td><td>1</td><td>2501</td><td>3</td><td>3</td><td>0</td><td>2501</td><td>2501</td></tr>",
                            "<tr><td>17</td><td>AW00011016</td><td>Wyatt Hill</td><td>41</td><td>40-49</td><td>New</td><td>2013-02-09</td><td>151</td><td>1</td><td>2332</td><td>3</td><td>3</td><td>0</td><td>2332</td><td>2332</td></tr>",
                            "<tr><td>18</td><td>AW00011017</td><td>Shannon Wang</td><td>76</td><td>50 and above</td><td>VIP</td><td>2013-10-14</td><td>143</td><td>3</td><td>6434</td><td>4</td><td>4</td><td>33</td><td>2144</td><td>194</td></tr>",
                            "<tr><td>19</td><td>AW00011018</td><td>Clarence Rai</td><td>70</td><td>50 and above</td><td>VIP</td><td>2013-10-24</td><td>143</td><td>3</td><td>6533</td><td>7</td><td>7</td><td>33</td><td>2177</td><td>197</td></tr>",
                            "<tr><td>20</td><td>AW00011019</td><td>Luke Lal</td><td>42</td><td>40-49</td><td>New</td><td>2014-01-12</td><td>140</td><td>17</td><td>880</td><td>33</td><td>20</td><td>11</td><td>51</td><td>80</td></tr>",
                            "</table>"
                        ]
                    }
                }
            ],
            "execution_count": 4
        }
    ]
}