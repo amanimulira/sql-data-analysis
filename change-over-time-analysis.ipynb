{
    "metadata": {
        "kernelspec": {
            "name": "SQL",
            "display_name": "SQL",
            "language": "sql"
        },
        "language_info": {
            "name": "sql",
            "version": ""
        }
    },
    "nbformat_minor": 2,
    "nbformat": 4,
    "cells": [
        {
            "cell_type": "markdown",
            "source": [
                "# **Change-Over-Time Trends.**\n",
                "\n",
                "## **Why?**\n",
                "\n",
                "- Track trends, growth, and changes in key metrics overtime.\n",
                "- Time-series analysis and identifying seasonality.\n",
                "- To measure growth or decline over specific periods.\n",
                "\n",
                "## **Analyze How a Measure Evolves Over Time.**\n",
                "\n",
                "Summation of \\[Measure\\] by \\[Date Dimension\\]\n",
                "\n",
                "- <span style=\"font-family: -apple-system, BlinkMacSystemFont, sans-serif; color: var(--vscode-foreground);\">Total Sales By Year</span>\n",
                "- <span style=\"color: var(--vscode-foreground); font-family: -apple-system, BlinkMacSystemFont, sans-serif;\">Average Cost By Month</span>"
            ],
            "metadata": {
                "azdata_cell_guid": "4182d7f2-b5e9-4bdc-9841-79bd08f13c71"
            },
            "attachments": {}
        },
        {
            "cell_type": "markdown",
            "source": [
                "# **Analyze Sales Performance Over Time.**"
            ],
            "metadata": {
                "azdata_cell_guid": "86891020-c124-4cdf-af2a-037feb72241d"
            },
            "attachments": {}
        },
        {
            "cell_type": "markdown",
            "source": [
                "### **Quick Date Functions.**"
            ],
            "metadata": {
                "azdata_cell_guid": "acda2b48-2c36-4af6-ba65-c766995eca33"
            },
            "attachments": {}
        },
        {
            "cell_type": "code",
            "source": [
                "SELECT\n",
                "    YEAR(order_date) AS order_year,\n",
                "    MONTH(order_date) AS order_month, \n",
                "    SUM(sales_amount) AS total_sales,\n",
                "    COUNT(DISTINCT customer_key) AS total_customers,\n",
                "    SUM(quantity) AS total_quantity\n",
                "FROM gold.fact_sales\n",
                "WHERE order_date IS NOT NULL\n",
                "GROUP BY YEAR(order_date), MONTH(order_date)\n",
                "ORDER BY YEAR(order_date), MONTH(order_date);"
            ],
            "metadata": {
                "azdata_cell_guid": "7fe4fe66-a5f3-4841-8543-f38af6ec2d28",
                "language": "sql",
                "tags": []
            },
            "outputs": [
                {
                    "output_type": "display_data",
                    "data": {
                        "text/html": "(38 rows affected)"
                    },
                    "metadata": {}
                },
                {
                    "output_type": "display_data",
                    "data": {
                        "text/html": "Total execution time: 00:00:00.444"
                    },
                    "metadata": {}
                },
                {
                    "output_type": "execute_result",
                    "metadata": {},
                    "execution_count": 5,
                    "data": {
                        "application/vnd.dataresource+json": {
                            "schema": {
                                "fields": [
                                    {
                                        "name": "order_year"
                                    },
                                    {
                                        "name": "order_month"
                                    },
                                    {
                                        "name": "total_sales"
                                    },
                                    {
                                        "name": "total_customers"
                                    },
                                    {
                                        "name": "total_quantity"
                                    }
                                ]
                            },
                            "data": [
                                {
                                    "order_year": "2010",
                                    "order_month": "12",
                                    "total_sales": "43419",
                                    "total_customers": "14",
                                    "total_quantity": "14"
                                },
                                {
                                    "order_year": "2011",
                                    "order_month": "1",
                                    "total_sales": "469795",
                                    "total_customers": "144",
                                    "total_quantity": "144"
                                },
                                {
                                    "order_year": "2011",
                                    "order_month": "2",
                                    "total_sales": "466307",
                                    "total_customers": "144",
                                    "total_quantity": "144"
                                },
                                {
                                    "order_year": "2011",
                                    "order_month": "3",
                                    "total_sales": "485165",
                                    "total_customers": "150",
                                    "total_quantity": "150"
                                },
                                {
                                    "order_year": "2011",
                                    "order_month": "4",
                                    "total_sales": "502042",
                                    "total_customers": "157",
                                    "total_quantity": "157"
                                },
                                {
                                    "order_year": "2011",
                                    "order_month": "5",
                                    "total_sales": "561647",
                                    "total_customers": "174",
                                    "total_quantity": "174"
                                },
                                {
                                    "order_year": "2011",
                                    "order_month": "6",
                                    "total_sales": "737793",
                                    "total_customers": "230",
                                    "total_quantity": "230"
                                },
                                {
                                    "order_year": "2011",
                                    "order_month": "7",
                                    "total_sales": "596710",
                                    "total_customers": "188",
                                    "total_quantity": "188"
                                },
                                {
                                    "order_year": "2011",
                                    "order_month": "8",
                                    "total_sales": "614516",
                                    "total_customers": "193",
                                    "total_quantity": "193"
                                },
                                {
                                    "order_year": "2011",
                                    "order_month": "9",
                                    "total_sales": "603047",
                                    "total_customers": "185",
                                    "total_quantity": "185"
                                },
                                {
                                    "order_year": "2011",
                                    "order_month": "10",
                                    "total_sales": "708164",
                                    "total_customers": "221",
                                    "total_quantity": "221"
                                },
                                {
                                    "order_year": "2011",
                                    "order_month": "11",
                                    "total_sales": "660507",
                                    "total_customers": "208",
                                    "total_quantity": "208"
                                },
                                {
                                    "order_year": "2011",
                                    "order_month": "12",
                                    "total_sales": "669395",
                                    "total_customers": "222",
                                    "total_quantity": "222"
                                },
                                {
                                    "order_year": "2012",
                                    "order_month": "1",
                                    "total_sales": "495363",
                                    "total_customers": "252",
                                    "total_quantity": "252"
                                },
                                {
                                    "order_year": "2012",
                                    "order_month": "2",
                                    "total_sales": "506992",
                                    "total_customers": "260",
                                    "total_quantity": "260"
                                },
                                {
                                    "order_year": "2012",
                                    "order_month": "3",
                                    "total_sales": "373478",
                                    "total_customers": "212",
                                    "total_quantity": "212"
                                },
                                {
                                    "order_year": "2012",
                                    "order_month": "4",
                                    "total_sales": "400324",
                                    "total_customers": "219",
                                    "total_quantity": "219"
                                },
                                {
                                    "order_year": "2012",
                                    "order_month": "5",
                                    "total_sales": "358866",
                                    "total_customers": "207",
                                    "total_quantity": "207"
                                },
                                {
                                    "order_year": "2012",
                                    "order_month": "6",
                                    "total_sales": "555142",
                                    "total_customers": "318",
                                    "total_quantity": "318"
                                },
                                {
                                    "order_year": "2012",
                                    "order_month": "7",
                                    "total_sales": "444533",
                                    "total_customers": "246",
                                    "total_quantity": "246"
                                },
                                {
                                    "order_year": "2012",
                                    "order_month": "8",
                                    "total_sales": "523887",
                                    "total_customers": "294",
                                    "total_quantity": "294"
                                },
                                {
                                    "order_year": "2012",
                                    "order_month": "9",
                                    "total_sales": "486149",
                                    "total_customers": "269",
                                    "total_quantity": "269"
                                },
                                {
                                    "order_year": "2012",
                                    "order_month": "10",
                                    "total_sales": "535125",
                                    "total_customers": "313",
                                    "total_quantity": "313"
                                },
                                {
                                    "order_year": "2012",
                                    "order_month": "11",
                                    "total_sales": "537918",
                                    "total_customers": "324",
                                    "total_quantity": "324"
                                },
                                {
                                    "order_year": "2012",
                                    "order_month": "12",
                                    "total_sales": "624454",
                                    "total_customers": "354",
                                    "total_quantity": "483"
                                },
                                {
                                    "order_year": "2013",
                                    "order_month": "1",
                                    "total_sales": "857758",
                                    "total_customers": "627",
                                    "total_quantity": "1677"
                                },
                                {
                                    "order_year": "2013",
                                    "order_month": "2",
                                    "total_sales": "771218",
                                    "total_customers": "1373",
                                    "total_quantity": "3454"
                                },
                                {
                                    "order_year": "2013",
                                    "order_month": "3",
                                    "total_sales": "1049732",
                                    "total_customers": "1631",
                                    "total_quantity": "4087"
                                },
                                {
                                    "order_year": "2013",
                                    "order_month": "4",
                                    "total_sales": "1045860",
                                    "total_customers": "1564",
                                    "total_quantity": "3979"
                                },
                                {
                                    "order_year": "2013",
                                    "order_month": "5",
                                    "total_sales": "1284456",
                                    "total_customers": "1719",
                                    "total_quantity": "4400"
                                },
                                {
                                    "order_year": "2013",
                                    "order_month": "6",
                                    "total_sales": "1642948",
                                    "total_customers": "1948",
                                    "total_quantity": "5025"
                                },
                                {
                                    "order_year": "2013",
                                    "order_month": "7",
                                    "total_sales": "1371595",
                                    "total_customers": "1796",
                                    "total_quantity": "4673"
                                },
                                {
                                    "order_year": "2013",
                                    "order_month": "8",
                                    "total_sales": "1545910",
                                    "total_customers": "1898",
                                    "total_quantity": "4848"
                                },
                                {
                                    "order_year": "2013",
                                    "order_month": "9",
                                    "total_sales": "1447324",
                                    "total_customers": "1832",
                                    "total_quantity": "4616"
                                },
                                {
                                    "order_year": "2013",
                                    "order_month": "10",
                                    "total_sales": "1673261",
                                    "total_customers": "2073",
                                    "total_quantity": "5304"
                                },
                                {
                                    "order_year": "2013",
                                    "order_month": "11",
                                    "total_sales": "1780688",
                                    "total_customers": "2036",
                                    "total_quantity": "5224"
                                },
                                {
                                    "order_year": "2013",
                                    "order_month": "12",
                                    "total_sales": "1874128",
                                    "total_customers": "2133",
                                    "total_quantity": "5520"
                                },
                                {
                                    "order_year": "2014",
                                    "order_month": "1",
                                    "total_sales": "45642",
                                    "total_customers": "834",
                                    "total_quantity": "1970"
                                }
                            ]
                        },
                        "text/html": [
                            "<table>",
                            "<tr><th>order_year</th><th>order_month</th><th>total_sales</th><th>total_customers</th><th>total_quantity</th></tr>",
                            "<tr><td>2010</td><td>12</td><td>43419</td><td>14</td><td>14</td></tr>",
                            "<tr><td>2011</td><td>1</td><td>469795</td><td>144</td><td>144</td></tr>",
                            "<tr><td>2011</td><td>2</td><td>466307</td><td>144</td><td>144</td></tr>",
                            "<tr><td>2011</td><td>3</td><td>485165</td><td>150</td><td>150</td></tr>",
                            "<tr><td>2011</td><td>4</td><td>502042</td><td>157</td><td>157</td></tr>",
                            "<tr><td>2011</td><td>5</td><td>561647</td><td>174</td><td>174</td></tr>",
                            "<tr><td>2011</td><td>6</td><td>737793</td><td>230</td><td>230</td></tr>",
                            "<tr><td>2011</td><td>7</td><td>596710</td><td>188</td><td>188</td></tr>",
                            "<tr><td>2011</td><td>8</td><td>614516</td><td>193</td><td>193</td></tr>",
                            "<tr><td>2011</td><td>9</td><td>603047</td><td>185</td><td>185</td></tr>",
                            "<tr><td>2011</td><td>10</td><td>708164</td><td>221</td><td>221</td></tr>",
                            "<tr><td>2011</td><td>11</td><td>660507</td><td>208</td><td>208</td></tr>",
                            "<tr><td>2011</td><td>12</td><td>669395</td><td>222</td><td>222</td></tr>",
                            "<tr><td>2012</td><td>1</td><td>495363</td><td>252</td><td>252</td></tr>",
                            "<tr><td>2012</td><td>2</td><td>506992</td><td>260</td><td>260</td></tr>",
                            "<tr><td>2012</td><td>3</td><td>373478</td><td>212</td><td>212</td></tr>",
                            "<tr><td>2012</td><td>4</td><td>400324</td><td>219</td><td>219</td></tr>",
                            "<tr><td>2012</td><td>5</td><td>358866</td><td>207</td><td>207</td></tr>",
                            "<tr><td>2012</td><td>6</td><td>555142</td><td>318</td><td>318</td></tr>",
                            "<tr><td>2012</td><td>7</td><td>444533</td><td>246</td><td>246</td></tr>",
                            "<tr><td>2012</td><td>8</td><td>523887</td><td>294</td><td>294</td></tr>",
                            "<tr><td>2012</td><td>9</td><td>486149</td><td>269</td><td>269</td></tr>",
                            "<tr><td>2012</td><td>10</td><td>535125</td><td>313</td><td>313</td></tr>",
                            "<tr><td>2012</td><td>11</td><td>537918</td><td>324</td><td>324</td></tr>",
                            "<tr><td>2012</td><td>12</td><td>624454</td><td>354</td><td>483</td></tr>",
                            "<tr><td>2013</td><td>1</td><td>857758</td><td>627</td><td>1677</td></tr>",
                            "<tr><td>2013</td><td>2</td><td>771218</td><td>1373</td><td>3454</td></tr>",
                            "<tr><td>2013</td><td>3</td><td>1049732</td><td>1631</td><td>4087</td></tr>",
                            "<tr><td>2013</td><td>4</td><td>1045860</td><td>1564</td><td>3979</td></tr>",
                            "<tr><td>2013</td><td>5</td><td>1284456</td><td>1719</td><td>4400</td></tr>",
                            "<tr><td>2013</td><td>6</td><td>1642948</td><td>1948</td><td>5025</td></tr>",
                            "<tr><td>2013</td><td>7</td><td>1371595</td><td>1796</td><td>4673</td></tr>",
                            "<tr><td>2013</td><td>8</td><td>1545910</td><td>1898</td><td>4848</td></tr>",
                            "<tr><td>2013</td><td>9</td><td>1447324</td><td>1832</td><td>4616</td></tr>",
                            "<tr><td>2013</td><td>10</td><td>1673261</td><td>2073</td><td>5304</td></tr>",
                            "<tr><td>2013</td><td>11</td><td>1780688</td><td>2036</td><td>5224</td></tr>",
                            "<tr><td>2013</td><td>12</td><td>1874128</td><td>2133</td><td>5520</td></tr>",
                            "<tr><td>2014</td><td>1</td><td>45642</td><td>834</td><td>1970</td></tr>",
                            "</table>"
                        ]
                    }
                }
            ],
            "execution_count": 5
        },
        {
            "cell_type": "markdown",
            "source": [
                "### **DATATRUNC()**"
            ],
            "metadata": {
                "language": "sql",
                "azdata_cell_guid": "a089bebf-c5da-4f2a-8e2c-85892df37337"
            },
            "attachments": {}
        },
        {
            "cell_type": "code",
            "source": [
                "SELECT \n",
                "    DATETRUNC(month, order_date) AS order_date,\n",
                "    SUM(sales_amount) AS total_sales,\n",
                "    COUNT(DISTINCT customer_key) AS total_customers,\n",
                "    SUM(quantity) AS total_quantity\n",
                "FROM gold.fact_sales\n",
                "WHERE order_date IS NOT NULL\n",
                "GROUP BY DATETRUNC(month, order_date)\n",
                "ORDER BY DATETRUNC(month, order_date);"
            ],
            "metadata": {
                "language": "sql",
                "azdata_cell_guid": "8c03ade0-44c7-47f7-a6c8-1264c72bf9dd"
            },
            "outputs": [
                {
                    "output_type": "display_data",
                    "data": {
                        "text/html": "(38 rows affected)"
                    },
                    "metadata": {}
                },
                {
                    "output_type": "display_data",
                    "data": {
                        "text/html": "Total execution time: 00:00:00.445"
                    },
                    "metadata": {}
                },
                {
                    "output_type": "execute_result",
                    "metadata": {},
                    "execution_count": 8,
                    "data": {
                        "application/vnd.dataresource+json": {
                            "schema": {
                                "fields": [
                                    {
                                        "name": "order_date"
                                    },
                                    {
                                        "name": "total_sales"
                                    },
                                    {
                                        "name": "total_customers"
                                    },
                                    {
                                        "name": "total_quantity"
                                    }
                                ]
                            },
                            "data": [
                                {
                                    "order_date": "2010-12-01",
                                    "total_sales": "43419",
                                    "total_customers": "14",
                                    "total_quantity": "14"
                                },
                                {
                                    "order_date": "2011-01-01",
                                    "total_sales": "469795",
                                    "total_customers": "144",
                                    "total_quantity": "144"
                                },
                                {
                                    "order_date": "2011-02-01",
                                    "total_sales": "466307",
                                    "total_customers": "144",
                                    "total_quantity": "144"
                                },
                                {
                                    "order_date": "2011-03-01",
                                    "total_sales": "485165",
                                    "total_customers": "150",
                                    "total_quantity": "150"
                                },
                                {
                                    "order_date": "2011-04-01",
                                    "total_sales": "502042",
                                    "total_customers": "157",
                                    "total_quantity": "157"
                                },
                                {
                                    "order_date": "2011-05-01",
                                    "total_sales": "561647",
                                    "total_customers": "174",
                                    "total_quantity": "174"
                                },
                                {
                                    "order_date": "2011-06-01",
                                    "total_sales": "737793",
                                    "total_customers": "230",
                                    "total_quantity": "230"
                                },
                                {
                                    "order_date": "2011-07-01",
                                    "total_sales": "596710",
                                    "total_customers": "188",
                                    "total_quantity": "188"
                                },
                                {
                                    "order_date": "2011-08-01",
                                    "total_sales": "614516",
                                    "total_customers": "193",
                                    "total_quantity": "193"
                                },
                                {
                                    "order_date": "2011-09-01",
                                    "total_sales": "603047",
                                    "total_customers": "185",
                                    "total_quantity": "185"
                                },
                                {
                                    "order_date": "2011-10-01",
                                    "total_sales": "708164",
                                    "total_customers": "221",
                                    "total_quantity": "221"
                                },
                                {
                                    "order_date": "2011-11-01",
                                    "total_sales": "660507",
                                    "total_customers": "208",
                                    "total_quantity": "208"
                                },
                                {
                                    "order_date": "2011-12-01",
                                    "total_sales": "669395",
                                    "total_customers": "222",
                                    "total_quantity": "222"
                                },
                                {
                                    "order_date": "2012-01-01",
                                    "total_sales": "495363",
                                    "total_customers": "252",
                                    "total_quantity": "252"
                                },
                                {
                                    "order_date": "2012-02-01",
                                    "total_sales": "506992",
                                    "total_customers": "260",
                                    "total_quantity": "260"
                                },
                                {
                                    "order_date": "2012-03-01",
                                    "total_sales": "373478",
                                    "total_customers": "212",
                                    "total_quantity": "212"
                                },
                                {
                                    "order_date": "2012-04-01",
                                    "total_sales": "400324",
                                    "total_customers": "219",
                                    "total_quantity": "219"
                                },
                                {
                                    "order_date": "2012-05-01",
                                    "total_sales": "358866",
                                    "total_customers": "207",
                                    "total_quantity": "207"
                                },
                                {
                                    "order_date": "2012-06-01",
                                    "total_sales": "555142",
                                    "total_customers": "318",
                                    "total_quantity": "318"
                                },
                                {
                                    "order_date": "2012-07-01",
                                    "total_sales": "444533",
                                    "total_customers": "246",
                                    "total_quantity": "246"
                                },
                                {
                                    "order_date": "2012-08-01",
                                    "total_sales": "523887",
                                    "total_customers": "294",
                                    "total_quantity": "294"
                                },
                                {
                                    "order_date": "2012-09-01",
                                    "total_sales": "486149",
                                    "total_customers": "269",
                                    "total_quantity": "269"
                                },
                                {
                                    "order_date": "2012-10-01",
                                    "total_sales": "535125",
                                    "total_customers": "313",
                                    "total_quantity": "313"
                                },
                                {
                                    "order_date": "2012-11-01",
                                    "total_sales": "537918",
                                    "total_customers": "324",
                                    "total_quantity": "324"
                                },
                                {
                                    "order_date": "2012-12-01",
                                    "total_sales": "624454",
                                    "total_customers": "354",
                                    "total_quantity": "483"
                                },
                                {
                                    "order_date": "2013-01-01",
                                    "total_sales": "857758",
                                    "total_customers": "627",
                                    "total_quantity": "1677"
                                },
                                {
                                    "order_date": "2013-02-01",
                                    "total_sales": "771218",
                                    "total_customers": "1373",
                                    "total_quantity": "3454"
                                },
                                {
                                    "order_date": "2013-03-01",
                                    "total_sales": "1049732",
                                    "total_customers": "1631",
                                    "total_quantity": "4087"
                                },
                                {
                                    "order_date": "2013-04-01",
                                    "total_sales": "1045860",
                                    "total_customers": "1564",
                                    "total_quantity": "3979"
                                },
                                {
                                    "order_date": "2013-05-01",
                                    "total_sales": "1284456",
                                    "total_customers": "1719",
                                    "total_quantity": "4400"
                                },
                                {
                                    "order_date": "2013-06-01",
                                    "total_sales": "1642948",
                                    "total_customers": "1948",
                                    "total_quantity": "5025"
                                },
                                {
                                    "order_date": "2013-07-01",
                                    "total_sales": "1371595",
                                    "total_customers": "1796",
                                    "total_quantity": "4673"
                                },
                                {
                                    "order_date": "2013-08-01",
                                    "total_sales": "1545910",
                                    "total_customers": "1898",
                                    "total_quantity": "4848"
                                },
                                {
                                    "order_date": "2013-09-01",
                                    "total_sales": "1447324",
                                    "total_customers": "1832",
                                    "total_quantity": "4616"
                                },
                                {
                                    "order_date": "2013-10-01",
                                    "total_sales": "1673261",
                                    "total_customers": "2073",
                                    "total_quantity": "5304"
                                },
                                {
                                    "order_date": "2013-11-01",
                                    "total_sales": "1780688",
                                    "total_customers": "2036",
                                    "total_quantity": "5224"
                                },
                                {
                                    "order_date": "2013-12-01",
                                    "total_sales": "1874128",
                                    "total_customers": "2133",
                                    "total_quantity": "5520"
                                },
                                {
                                    "order_date": "2014-01-01",
                                    "total_sales": "45642",
                                    "total_customers": "834",
                                    "total_quantity": "1970"
                                }
                            ]
                        },
                        "text/html": [
                            "<table>",
                            "<tr><th>order_date</th><th>total_sales</th><th>total_customers</th><th>total_quantity</th></tr>",
                            "<tr><td>2010-12-01</td><td>43419</td><td>14</td><td>14</td></tr>",
                            "<tr><td>2011-01-01</td><td>469795</td><td>144</td><td>144</td></tr>",
                            "<tr><td>2011-02-01</td><td>466307</td><td>144</td><td>144</td></tr>",
                            "<tr><td>2011-03-01</td><td>485165</td><td>150</td><td>150</td></tr>",
                            "<tr><td>2011-04-01</td><td>502042</td><td>157</td><td>157</td></tr>",
                            "<tr><td>2011-05-01</td><td>561647</td><td>174</td><td>174</td></tr>",
                            "<tr><td>2011-06-01</td><td>737793</td><td>230</td><td>230</td></tr>",
                            "<tr><td>2011-07-01</td><td>596710</td><td>188</td><td>188</td></tr>",
                            "<tr><td>2011-08-01</td><td>614516</td><td>193</td><td>193</td></tr>",
                            "<tr><td>2011-09-01</td><td>603047</td><td>185</td><td>185</td></tr>",
                            "<tr><td>2011-10-01</td><td>708164</td><td>221</td><td>221</td></tr>",
                            "<tr><td>2011-11-01</td><td>660507</td><td>208</td><td>208</td></tr>",
                            "<tr><td>2011-12-01</td><td>669395</td><td>222</td><td>222</td></tr>",
                            "<tr><td>2012-01-01</td><td>495363</td><td>252</td><td>252</td></tr>",
                            "<tr><td>2012-02-01</td><td>506992</td><td>260</td><td>260</td></tr>",
                            "<tr><td>2012-03-01</td><td>373478</td><td>212</td><td>212</td></tr>",
                            "<tr><td>2012-04-01</td><td>400324</td><td>219</td><td>219</td></tr>",
                            "<tr><td>2012-05-01</td><td>358866</td><td>207</td><td>207</td></tr>",
                            "<tr><td>2012-06-01</td><td>555142</td><td>318</td><td>318</td></tr>",
                            "<tr><td>2012-07-01</td><td>444533</td><td>246</td><td>246</td></tr>",
                            "<tr><td>2012-08-01</td><td>523887</td><td>294</td><td>294</td></tr>",
                            "<tr><td>2012-09-01</td><td>486149</td><td>269</td><td>269</td></tr>",
                            "<tr><td>2012-10-01</td><td>535125</td><td>313</td><td>313</td></tr>",
                            "<tr><td>2012-11-01</td><td>537918</td><td>324</td><td>324</td></tr>",
                            "<tr><td>2012-12-01</td><td>624454</td><td>354</td><td>483</td></tr>",
                            "<tr><td>2013-01-01</td><td>857758</td><td>627</td><td>1677</td></tr>",
                            "<tr><td>2013-02-01</td><td>771218</td><td>1373</td><td>3454</td></tr>",
                            "<tr><td>2013-03-01</td><td>1049732</td><td>1631</td><td>4087</td></tr>",
                            "<tr><td>2013-04-01</td><td>1045860</td><td>1564</td><td>3979</td></tr>",
                            "<tr><td>2013-05-01</td><td>1284456</td><td>1719</td><td>4400</td></tr>",
                            "<tr><td>2013-06-01</td><td>1642948</td><td>1948</td><td>5025</td></tr>",
                            "<tr><td>2013-07-01</td><td>1371595</td><td>1796</td><td>4673</td></tr>",
                            "<tr><td>2013-08-01</td><td>1545910</td><td>1898</td><td>4848</td></tr>",
                            "<tr><td>2013-09-01</td><td>1447324</td><td>1832</td><td>4616</td></tr>",
                            "<tr><td>2013-10-01</td><td>1673261</td><td>2073</td><td>5304</td></tr>",
                            "<tr><td>2013-11-01</td><td>1780688</td><td>2036</td><td>5224</td></tr>",
                            "<tr><td>2013-12-01</td><td>1874128</td><td>2133</td><td>5520</td></tr>",
                            "<tr><td>2014-01-01</td><td>45642</td><td>834</td><td>1970</td></tr>",
                            "</table>"
                        ]
                    }
                }
            ],
            "execution_count": 8
        },
        {
            "cell_type": "markdown",
            "source": [
                "### **FORMAT()**"
            ],
            "metadata": {
                "language": "sql",
                "azdata_cell_guid": "7e706290-75d5-4961-830e-523996ed50ee"
            },
            "attachments": {}
        },
        {
            "cell_type": "code",
            "source": [
                "SELECT\n",
                "    FORMAT(order_date, 'yyyy-MMM') AS order_date,\n",
                "    SUM(sales_amount) AS total_sales,\n",
                "    COUNT(DISTINCT customer_key) AS total_customers,\n",
                "    SUM(quantity) AS total_quantity\n",
                "FROM gold.fact_sales\n",
                "WHERE order_date IS NOT NULL\n",
                "GROUP BY FORMAT(order_date, 'yyyy-MMM')\n",
                "ORDER BY FORMAT(order_date, 'yyyy-MMM');"
            ],
            "metadata": {
                "language": "sql",
                "azdata_cell_guid": "0733b01b-a505-4e08-a4d3-1688578ff6b7"
            },
            "outputs": [
                {
                    "output_type": "display_data",
                    "data": {
                        "text/html": "(38 rows affected)"
                    },
                    "metadata": {}
                },
                {
                    "output_type": "display_data",
                    "data": {
                        "text/html": "Total execution time: 00:00:03.334"
                    },
                    "metadata": {}
                },
                {
                    "output_type": "execute_result",
                    "metadata": {},
                    "execution_count": 9,
                    "data": {
                        "application/vnd.dataresource+json": {
                            "schema": {
                                "fields": [
                                    {
                                        "name": "order_date"
                                    },
                                    {
                                        "name": "total_sales"
                                    },
                                    {
                                        "name": "total_customers"
                                    },
                                    {
                                        "name": "total_quantity"
                                    }
                                ]
                            },
                            "data": [
                                {
                                    "order_date": "2010-Dec",
                                    "total_sales": "43419",
                                    "total_customers": "14",
                                    "total_quantity": "14"
                                },
                                {
                                    "order_date": "2011-Apr",
                                    "total_sales": "502042",
                                    "total_customers": "157",
                                    "total_quantity": "157"
                                },
                                {
                                    "order_date": "2011-Aug",
                                    "total_sales": "614516",
                                    "total_customers": "193",
                                    "total_quantity": "193"
                                },
                                {
                                    "order_date": "2011-Dec",
                                    "total_sales": "669395",
                                    "total_customers": "222",
                                    "total_quantity": "222"
                                },
                                {
                                    "order_date": "2011-Feb",
                                    "total_sales": "466307",
                                    "total_customers": "144",
                                    "total_quantity": "144"
                                },
                                {
                                    "order_date": "2011-Jan",
                                    "total_sales": "469795",
                                    "total_customers": "144",
                                    "total_quantity": "144"
                                },
                                {
                                    "order_date": "2011-Jul",
                                    "total_sales": "596710",
                                    "total_customers": "188",
                                    "total_quantity": "188"
                                },
                                {
                                    "order_date": "2011-Jun",
                                    "total_sales": "737793",
                                    "total_customers": "230",
                                    "total_quantity": "230"
                                },
                                {
                                    "order_date": "2011-Mar",
                                    "total_sales": "485165",
                                    "total_customers": "150",
                                    "total_quantity": "150"
                                },
                                {
                                    "order_date": "2011-May",
                                    "total_sales": "561647",
                                    "total_customers": "174",
                                    "total_quantity": "174"
                                },
                                {
                                    "order_date": "2011-Nov",
                                    "total_sales": "660507",
                                    "total_customers": "208",
                                    "total_quantity": "208"
                                },
                                {
                                    "order_date": "2011-Oct",
                                    "total_sales": "708164",
                                    "total_customers": "221",
                                    "total_quantity": "221"
                                },
                                {
                                    "order_date": "2011-Sep",
                                    "total_sales": "603047",
                                    "total_customers": "185",
                                    "total_quantity": "185"
                                },
                                {
                                    "order_date": "2012-Apr",
                                    "total_sales": "400324",
                                    "total_customers": "219",
                                    "total_quantity": "219"
                                },
                                {
                                    "order_date": "2012-Aug",
                                    "total_sales": "523887",
                                    "total_customers": "294",
                                    "total_quantity": "294"
                                },
                                {
                                    "order_date": "2012-Dec",
                                    "total_sales": "624454",
                                    "total_customers": "354",
                                    "total_quantity": "483"
                                },
                                {
                                    "order_date": "2012-Feb",
                                    "total_sales": "506992",
                                    "total_customers": "260",
                                    "total_quantity": "260"
                                },
                                {
                                    "order_date": "2012-Jan",
                                    "total_sales": "495363",
                                    "total_customers": "252",
                                    "total_quantity": "252"
                                },
                                {
                                    "order_date": "2012-Jul",
                                    "total_sales": "444533",
                                    "total_customers": "246",
                                    "total_quantity": "246"
                                },
                                {
                                    "order_date": "2012-Jun",
                                    "total_sales": "555142",
                                    "total_customers": "318",
                                    "total_quantity": "318"
                                },
                                {
                                    "order_date": "2012-Mar",
                                    "total_sales": "373478",
                                    "total_customers": "212",
                                    "total_quantity": "212"
                                },
                                {
                                    "order_date": "2012-May",
                                    "total_sales": "358866",
                                    "total_customers": "207",
                                    "total_quantity": "207"
                                },
                                {
                                    "order_date": "2012-Nov",
                                    "total_sales": "537918",
                                    "total_customers": "324",
                                    "total_quantity": "324"
                                },
                                {
                                    "order_date": "2012-Oct",
                                    "total_sales": "535125",
                                    "total_customers": "313",
                                    "total_quantity": "313"
                                },
                                {
                                    "order_date": "2012-Sep",
                                    "total_sales": "486149",
                                    "total_customers": "269",
                                    "total_quantity": "269"
                                },
                                {
                                    "order_date": "2013-Apr",
                                    "total_sales": "1045860",
                                    "total_customers": "1564",
                                    "total_quantity": "3979"
                                },
                                {
                                    "order_date": "2013-Aug",
                                    "total_sales": "1545910",
                                    "total_customers": "1898",
                                    "total_quantity": "4848"
                                },
                                {
                                    "order_date": "2013-Dec",
                                    "total_sales": "1874128",
                                    "total_customers": "2133",
                                    "total_quantity": "5520"
                                },
                                {
                                    "order_date": "2013-Feb",
                                    "total_sales": "771218",
                                    "total_customers": "1373",
                                    "total_quantity": "3454"
                                },
                                {
                                    "order_date": "2013-Jan",
                                    "total_sales": "857758",
                                    "total_customers": "627",
                                    "total_quantity": "1677"
                                },
                                {
                                    "order_date": "2013-Jul",
                                    "total_sales": "1371595",
                                    "total_customers": "1796",
                                    "total_quantity": "4673"
                                },
                                {
                                    "order_date": "2013-Jun",
                                    "total_sales": "1642948",
                                    "total_customers": "1948",
                                    "total_quantity": "5025"
                                },
                                {
                                    "order_date": "2013-Mar",
                                    "total_sales": "1049732",
                                    "total_customers": "1631",
                                    "total_quantity": "4087"
                                },
                                {
                                    "order_date": "2013-May",
                                    "total_sales": "1284456",
                                    "total_customers": "1719",
                                    "total_quantity": "4400"
                                },
                                {
                                    "order_date": "2013-Nov",
                                    "total_sales": "1780688",
                                    "total_customers": "2036",
                                    "total_quantity": "5224"
                                },
                                {
                                    "order_date": "2013-Oct",
                                    "total_sales": "1673261",
                                    "total_customers": "2073",
                                    "total_quantity": "5304"
                                },
                                {
                                    "order_date": "2013-Sep",
                                    "total_sales": "1447324",
                                    "total_customers": "1832",
                                    "total_quantity": "4616"
                                },
                                {
                                    "order_date": "2014-Jan",
                                    "total_sales": "45642",
                                    "total_customers": "834",
                                    "total_quantity": "1970"
                                }
                            ]
                        },
                        "text/html": [
                            "<table>",
                            "<tr><th>order_date</th><th>total_sales</th><th>total_customers</th><th>total_quantity</th></tr>",
                            "<tr><td>2010-Dec</td><td>43419</td><td>14</td><td>14</td></tr>",
                            "<tr><td>2011-Apr</td><td>502042</td><td>157</td><td>157</td></tr>",
                            "<tr><td>2011-Aug</td><td>614516</td><td>193</td><td>193</td></tr>",
                            "<tr><td>2011-Dec</td><td>669395</td><td>222</td><td>222</td></tr>",
                            "<tr><td>2011-Feb</td><td>466307</td><td>144</td><td>144</td></tr>",
                            "<tr><td>2011-Jan</td><td>469795</td><td>144</td><td>144</td></tr>",
                            "<tr><td>2011-Jul</td><td>596710</td><td>188</td><td>188</td></tr>",
                            "<tr><td>2011-Jun</td><td>737793</td><td>230</td><td>230</td></tr>",
                            "<tr><td>2011-Mar</td><td>485165</td><td>150</td><td>150</td></tr>",
                            "<tr><td>2011-May</td><td>561647</td><td>174</td><td>174</td></tr>",
                            "<tr><td>2011-Nov</td><td>660507</td><td>208</td><td>208</td></tr>",
                            "<tr><td>2011-Oct</td><td>708164</td><td>221</td><td>221</td></tr>",
                            "<tr><td>2011-Sep</td><td>603047</td><td>185</td><td>185</td></tr>",
                            "<tr><td>2012-Apr</td><td>400324</td><td>219</td><td>219</td></tr>",
                            "<tr><td>2012-Aug</td><td>523887</td><td>294</td><td>294</td></tr>",
                            "<tr><td>2012-Dec</td><td>624454</td><td>354</td><td>483</td></tr>",
                            "<tr><td>2012-Feb</td><td>506992</td><td>260</td><td>260</td></tr>",
                            "<tr><td>2012-Jan</td><td>495363</td><td>252</td><td>252</td></tr>",
                            "<tr><td>2012-Jul</td><td>444533</td><td>246</td><td>246</td></tr>",
                            "<tr><td>2012-Jun</td><td>555142</td><td>318</td><td>318</td></tr>",
                            "<tr><td>2012-Mar</td><td>373478</td><td>212</td><td>212</td></tr>",
                            "<tr><td>2012-May</td><td>358866</td><td>207</td><td>207</td></tr>",
                            "<tr><td>2012-Nov</td><td>537918</td><td>324</td><td>324</td></tr>",
                            "<tr><td>2012-Oct</td><td>535125</td><td>313</td><td>313</td></tr>",
                            "<tr><td>2012-Sep</td><td>486149</td><td>269</td><td>269</td></tr>",
                            "<tr><td>2013-Apr</td><td>1045860</td><td>1564</td><td>3979</td></tr>",
                            "<tr><td>2013-Aug</td><td>1545910</td><td>1898</td><td>4848</td></tr>",
                            "<tr><td>2013-Dec</td><td>1874128</td><td>2133</td><td>5520</td></tr>",
                            "<tr><td>2013-Feb</td><td>771218</td><td>1373</td><td>3454</td></tr>",
                            "<tr><td>2013-Jan</td><td>857758</td><td>627</td><td>1677</td></tr>",
                            "<tr><td>2013-Jul</td><td>1371595</td><td>1796</td><td>4673</td></tr>",
                            "<tr><td>2013-Jun</td><td>1642948</td><td>1948</td><td>5025</td></tr>",
                            "<tr><td>2013-Mar</td><td>1049732</td><td>1631</td><td>4087</td></tr>",
                            "<tr><td>2013-May</td><td>1284456</td><td>1719</td><td>4400</td></tr>",
                            "<tr><td>2013-Nov</td><td>1780688</td><td>2036</td><td>5224</td></tr>",
                            "<tr><td>2013-Oct</td><td>1673261</td><td>2073</td><td>5304</td></tr>",
                            "<tr><td>2013-Sep</td><td>1447324</td><td>1832</td><td>4616</td></tr>",
                            "<tr><td>2014-Jan</td><td>45642</td><td>834</td><td>1970</td></tr>",
                            "</table>"
                        ]
                    }
                }
            ],
            "execution_count": 9
        }
    ]
}